{
  "nbformat": 4,
  "nbformat_minor": 0,
  "metadata": {
    "colab": {
      "provenance": [],
      "authorship_tag": "ABX9TyMc5xyD2xr/yG/pYFQgH58z",
      "include_colab_link": true
    },
    "kernelspec": {
      "name": "python3",
      "display_name": "Python 3"
    },
    "language_info": {
      "name": "python"
    }
  },
  "cells": [
    {
      "cell_type": "markdown",
      "metadata": {
        "id": "view-in-github",
        "colab_type": "text"
      },
      "source": [
        "<a href=\"https://colab.research.google.com/github/morenoraul/desarrolloia/blob/main/Coloquio_Desarrollo_Sistema_de_Inteligencia_Artificial_MORENO_.ipynb\" target=\"_parent\"><img src=\"https://colab.research.google.com/assets/colab-badge.svg\" alt=\"Open In Colab\"/></a>"
      ]
    },
    {
      "cell_type": "markdown",
      "source": [
        "\n",
        "<img src=\"https://elementos.entornos.net/clientes/ISPC/ispc.png\" width=\"350\" height=\"200\">\n",
        "\n"
      ],
      "metadata": {
        "id": "Ke2KyiboY2Xy"
      }
    },
    {
      "cell_type": "markdown",
      "source": [
        "**TECNICATURA SUPERIOR EN INNOVACIÓN CON TECNOLOGÍAS 4.0**\n",
        "\n",
        "**SISTEMAS DE DESARROLLO DE INTELIGENCIA ARTIFICIAL**\n",
        "\n",
        "SEGUNDO AÑO - COLOQUIO\n",
        "\n",
        "\n",
        "\n",
        "---\n",
        "\n",
        "\n",
        "\n",
        "**Tensorflow - Optimización de modelos de deep learning con Adam para aplicaciones en la industria 4.0**\n",
        "\n",
        "\n",
        "\n",
        "\n",
        "---\n",
        "\n",
        "\n",
        "\n",
        "Alumno: Raúl Moreno\n",
        "\n",
        "Docente: Cr. Sol del Valle Figueroa\n",
        "\n",
        "22 de Noviembre  de 2023\n"
      ],
      "metadata": {
        "id": "2SDK6eSFbAXB"
      }
    },
    {
      "cell_type": "markdown",
      "source": [
        "#**Introducción**\n",
        "El aprendizaje profundo y el uso de redes neuronales están transformando la industria 4.0. Para entrenar estos modelos se requieren algoritmos de optimización eficientes. Uno de los más utilizados es Adam (Adaptive Moment Estimation), que combina las ventajas del momento y RMSProp.\n",
        "\n",
        "En este trabajo se presenta el uso de Adam para entrenar modelos en TensorFlow/Keras, utilizando como caso práctico la clasificación de imágenes del conjunto de datos MNIST.\n",
        "\n",
        "Sse desarrolla un ejemplo práctico paso a paso, posteriormente  se discuten aplicaciones en la industria 4.0 como detección de anomalías, mantenimiento predictivo y automatización de procesos.\n"
      ],
      "metadata": {
        "id": "L-UT-mb-zCvw"
      }
    },
    {
      "cell_type": "markdown",
      "source": [
        "#**Desarrollo**\n",
        "\n",
        "La industria 4.0 trae consigo la automatización inteligente a través de tecnologías como el internet de las cosas (IoT), big data, robótica avanzada y aprendizaje automático.\n",
        "\n",
        "Dentro del aprendizaje automático, las redes neuronales profundas están demostrando un gran potencial para resolver problemas complejos en una variedad de dominios, donde entrenar estos  modelos profundos y robustos representa un desafío computacional.\n",
        "\n",
        "Los algoritmos de optimización juegan un rol crítico,  permitiendo encontrar los parámetros óptimos para minimizar la función de pérdida del modelo. Uno de los más populares es Adam (Adaptive Moment Estimation), que combina las ventajas del momentum y el método RMSProp. Adam permite entrenar modelos rápidamente incluso con grandes cantidades de datos.\n"
      ],
      "metadata": {
        "id": "wCK7x7Hr06oi"
      }
    },
    {
      "cell_type": "markdown",
      "source": [
        "# **Caso Practico: Clasificación de dígitos escritos a mano**\n",
        "\n",
        "Para demostrar el uso de Adam, desarrollaremos una red neuronal para clasificar imágenes de dígitos escritos a mano del conjunto de datos MNIST.\n",
        "MNIST contiene 70,000 imágenes en escala de grises de 28x28 píxeles de dígitos manuscritos de 0 a 9.\n",
        "\n",
        "El objetivo es entrenar un modelo que reciba las imágenes y prediga el dígito correcto.\n",
        "\n"
      ],
      "metadata": {
        "id": "XKUKbElZuX5r"
      }
    },
    {
      "cell_type": "code",
      "source": [],
      "metadata": {
        "id": "IHYYDWFbkLXS"
      },
      "execution_count": null,
      "outputs": []
    },
    {
      "cell_type": "code",
      "source": [],
      "metadata": {
        "id": "czswKjRJkLjn"
      },
      "execution_count": null,
      "outputs": []
    },
    {
      "cell_type": "markdown",
      "source": [
        "#Importar Librerias\n",
        "Primero se importan los módulos necesarios:\n",
        "-  Tensorflow  proveee implementaciones eficientes y optimizadas del algoritmo Adam listas para construir y entrenar el modelo\n",
        "-  Importamos keras, la API de alto nivel de TensorFlow para construir modelos\n",
        "-  Matplotlib.pylot permite generar gráfico."
      ],
      "metadata": {
        "id": "H1nZbpXFnPz3"
      }
    },
    {
      "cell_type": "code",
      "source": [
        "import tensorflow as tf\n",
        "from tensorflow import keras\n",
        "import matplotlib.pyplot as plt"
      ],
      "metadata": {
        "id": "2DKBQFuznTqv"
      },
      "execution_count": null,
      "outputs": []
    },
    {
      "cell_type": "markdown",
      "source": [
        "# Cargar datos\n",
        "\n",
        "Se cargan los datos de entrenamiento y prueba de MNIST"
      ],
      "metadata": {
        "id": "Ok4iEgjhnOS6"
      }
    },
    {
      "cell_type": "code",
      "execution_count": null,
      "metadata": {
        "id": "_LWehR49nLGR"
      },
      "outputs": [],
      "source": [
        "(x_train, y_train), (x_test, y_test) = keras.datasets.mnist.load_data()"
      ]
    },
    {
      "cell_type": "markdown",
      "source": [
        "\n",
        "# Preprocesar datos\n",
        "\n",
        "Aplanamos las imágenes a vectores y normalizamos los valores entre 0-1\n"
      ],
      "metadata": {
        "id": "ns1qraMRofy4"
      }
    },
    {
      "cell_type": "code",
      "source": [
        "x_train = x_train.reshape(-1, 28*28).astype('float32') / 255.0\n",
        "x_test = x_test.reshape(-1, 28*28).astype('float32') / 255.0"
      ],
      "metadata": {
        "id": "U6DUqbnKorDv"
      },
      "execution_count": null,
      "outputs": []
    },
    {
      "cell_type": "markdown",
      "source": [
        "# Definir modelo\n",
        "\n",
        "Luego definimos y compilamos el modelo secuencial"
      ],
      "metadata": {
        "id": "eewy6kG0ozlU"
      }
    },
    {
      "cell_type": "code",
      "source": [
        "model = keras.Sequential()\n",
        "model.add(keras.layers.Dense(64, input_dim=28*28, activation='relu'))\n",
        "model.add(keras.layers.Dense(10, activation='softmax'))"
      ],
      "metadata": {
        "id": "axU471Cfo2qM"
      },
      "execution_count": null,
      "outputs": []
    },
    {
      "cell_type": "markdown",
      "source": [
        "# Compilar modelo\n",
        "\n",
        "Definimos el modelo secuencial y agregamos capas densas\n",
        "\n"
      ],
      "metadata": {
        "id": "KZMHnzeCo_m-"
      }
    },
    {
      "cell_type": "code",
      "source": [
        "optimizer = keras.optimizers.Adam(learning_rate=0.001)\n",
        "model.compile(loss='sparse_categorical_crossentropy',\n",
        "              optimizer=optimizer,\n",
        "              metrics=['accuracy'])"
      ],
      "metadata": {
        "id": "zewMyyLxo5nr"
      },
      "execution_count": null,
      "outputs": []
    },
    {
      "cell_type": "markdown",
      "source": [
        "# Entrenar modelo\n",
        "\n",
        "Entrenamos el modelo durante 10 ciclos y evaluamos sobre los datos de test:"
      ],
      "metadata": {
        "id": "E3kdcKGEpKP0"
      }
    },
    {
      "cell_type": "code",
      "source": [
        "hist = model.fit(x_train, y_train,\n",
        "          validation_data=(x_test, y_test),\n",
        "          epochs=10)"
      ],
      "metadata": {
        "colab": {
          "base_uri": "https://localhost:8080/"
        },
        "id": "OYDzlk6po801",
        "outputId": "eb7cbb49-59be-451d-9dcb-96a54e59362a"
      },
      "execution_count": null,
      "outputs": [
        {
          "output_type": "stream",
          "name": "stdout",
          "text": [
            "Epoch 1/10\n",
            "1875/1875 [==============================] - 7s 3ms/step - loss: 0.2979 - accuracy: 0.9164 - val_loss: 0.1576 - val_accuracy: 0.9526\n",
            "Epoch 2/10\n",
            "1875/1875 [==============================] - 5s 2ms/step - loss: 0.1433 - accuracy: 0.9574 - val_loss: 0.1254 - val_accuracy: 0.9614\n",
            "Epoch 3/10\n",
            "1875/1875 [==============================] - 5s 3ms/step - loss: 0.1031 - accuracy: 0.9693 - val_loss: 0.1032 - val_accuracy: 0.9671\n",
            "Epoch 4/10\n",
            "1875/1875 [==============================] - 6s 3ms/step - loss: 0.0813 - accuracy: 0.9753 - val_loss: 0.0909 - val_accuracy: 0.9714\n",
            "Epoch 5/10\n",
            "1875/1875 [==============================] - 5s 2ms/step - loss: 0.0672 - accuracy: 0.9796 - val_loss: 0.0878 - val_accuracy: 0.9719\n",
            "Epoch 6/10\n",
            "1875/1875 [==============================] - 6s 3ms/step - loss: 0.0558 - accuracy: 0.9827 - val_loss: 0.0898 - val_accuracy: 0.9720\n",
            "Epoch 7/10\n",
            "1875/1875 [==============================] - 5s 3ms/step - loss: 0.0470 - accuracy: 0.9852 - val_loss: 0.0864 - val_accuracy: 0.9736\n",
            "Epoch 8/10\n",
            "1875/1875 [==============================] - 5s 3ms/step - loss: 0.0401 - accuracy: 0.9876 - val_loss: 0.0871 - val_accuracy: 0.9740\n",
            "Epoch 9/10\n",
            "1875/1875 [==============================] - 6s 3ms/step - loss: 0.0353 - accuracy: 0.9892 - val_loss: 0.0847 - val_accuracy: 0.9737\n",
            "Epoch 10/10\n",
            "1875/1875 [==============================] - 4s 2ms/step - loss: 0.0308 - accuracy: 0.9902 - val_loss: 0.0889 - val_accuracy: 0.9746\n"
          ]
        }
      ]
    },
    {
      "cell_type": "markdown",
      "source": [
        "# Muestra en imagenes de ejemplos del modelo de datos"
      ],
      "metadata": {
        "id": "c8OlJbjtK2-K"
      }
    },
    {
      "cell_type": "code",
      "source": [
        "import matplotlib.pyplot as plt\n",
        "\n",
        "# Tomar algunas muestras del conjunto de prueba\n",
        "X_samples = x_test[:10]\n",
        "\n",
        "# Hacer predicciones en las muestras\n",
        "y_pred = model.predict(X_samples)\n",
        "\n",
        "# Convertir las muestras a shape original\n",
        "X_samples = X_samples.reshape(-1, 28, 28)\n",
        "\n",
        "# Plotear 4 muestras y sus predicciones\n",
        "fig, axes = plt.subplots(2, 4)\n",
        "for i,ax in enumerate(axes.flat):\n",
        "\n",
        "  img = X_samples[i]\n",
        "  pred = y_pred[i]\n",
        "\n",
        "  ax.imshow(img, cmap='binary')\n",
        "  ax.set_title(f\"Pred: {pred.argmax()}\")\n",
        "\n",
        "  ax.axis('off')\n",
        "\n",
        "plt.show()"
      ],
      "metadata": {
        "colab": {
          "base_uri": "https://localhost:8080/",
          "height": 385
        },
        "id": "ry-AFRQeKzsn",
        "outputId": "9601667e-20c1-439b-fc35-87d3315cce3b"
      },
      "execution_count": null,
      "outputs": [
        {
          "output_type": "stream",
          "name": "stdout",
          "text": [
            "1/1 [==============================] - 0s 49ms/step\n"
          ]
        },
        {
          "output_type": "display_data",
          "data": {
            "text/plain": [
              "<Figure size 640x480 with 8 Axes>"
            ],
            "image/png": "[encoded data removed]"
          },
          "metadata": {}
        }
      ]
    },
    {
      "cell_type": "markdown",
      "source": [
        "# Evaluar modelo\n",
        "\n",
        "Evaluamos el modelo en el conjunto de prueba\n",
        "\n"
      ],
      "metadata": {
        "id": "0J46OYAlpR4k"
      }
    },
    {
      "cell_type": "code",
      "source": [
        "loss, accuracy = model.evaluate(x_test, y_test)\n",
        "print('Test accuracy:', accuracy)"
      ],
      "metadata": {
        "colab": {
          "base_uri": "https://localhost:8080/"
        },
        "id": "2Nep5VXfpVAo",
        "outputId": "c52b84c8-91c6-4a94-d336-0dd664cd260f"
      },
      "execution_count": null,
      "outputs": [
        {
          "output_type": "stream",
          "name": "stdout",
          "text": [
            "313/313 [==============================] - 1s 2ms/step - loss: 0.0889 - accuracy: 0.9746\n",
            "Test accuracy: 0.9746000170707703\n"
          ]
        }
      ]
    },
    {
      "cell_type": "markdown",
      "source": [
        "# Gráficos\n",
        "Graficamos las curvas de pérdida de entrenamiento y validación\n",
        "\n"
      ],
      "metadata": {
        "id": "MCF017c2pY9G"
      }
    },
    {
      "cell_type": "code",
      "source": [
        "plt.plot(hist.history['loss'])\n",
        "plt.plot(hist.history['val_loss'])\n",
        "plt.title('Model loss')\n",
        "plt.ylabel('Loss')\n",
        "plt.xlabel('Epoch')\n",
        "plt.legend(['Train', 'Test'], loc='upper right')\n",
        "plt.show()\n",
        "\n",
        "plt.plot(hist.history['accuracy'])\n",
        "plt.plot(hist.history['val_accuracy'])\n",
        "plt.title('Model Accuracy')\n",
        "plt.ylabel('Accuracy')\n",
        "plt.xlabel('Epoch')\n",
        "plt.legend(['Train', 'Test'], loc='lower right')\n",
        "plt.show()"
      ],
      "metadata": {
        "colab": {
          "base_uri": "https://localhost:8080/",
          "height": 927
        },
        "id": "TlQIwVJApbSa",
        "outputId": "637ce895-1ccb-4add-bc2a-0cacba85bab8"
      },
      "execution_count": null,
      "outputs": [
        {
          "output_type": "display_data",
          "data": {
            "text/plain": [
              "<Figure size 640x480 with 1 Axes>"
            ],
            "image/png": "[encoded data removed]"
          },
          "metadata": {}
        },
        {
          "output_type": "display_data",
          "data": {
            "text/plain": [
              "<Figure size 640x480 with 1 Axes>"
            ],
            "image/png": "[encoded data removed]"
          },
          "metadata": {}
        }
      ]
    },
    {
      "cell_type": "markdown",
      "source": [
        "# Aplicaciones en la industria 4.0\n",
        "\n",
        "Los modelos de deep learning optimizados con Adam pueden implementarse en una amplia variedad de aplicaciones en la industria 4.0:\n",
        "\n",
        "\n",
        "\n",
        "*  Mantenimiento predictivo: entrenando modelos que utilicen datos de sensores para predecir fallas de equipos antes que sucedan.\n",
        "\n",
        "*  Automatización de procesos: con robots que aprenden tareas específicas en fábricas, almacenes y líneas de producción.\n",
        "\n",
        "*  Logística: para clasificación automática de productos, gestión de inventarios, entre otros.\n",
        "\n",
        "*  Control de calidad: utilizando técnicas como deep learning para detectar items defectuosos.\n",
        "\n",
        "*  Detección de objetos: para identificar componentes en líneas de ensamblaje automatizadas.\n",
        "\n",
        "*  Recomendación de productos: sugerir artículos a clientes según su historial de compras y preferencias.\n",
        "\n",
        "Estos son solo algunos ejemplos de los amplios casos de uso de modelos de IA optimizados con Adam en la industria 4.0, que permiten crear procesos más eficientes, seguros y libres de errores humanos.\n"
      ],
      "metadata": {
        "id": "aljlC5-XyG0H"
      }
    },
    {
      "cell_type": "markdown",
      "source": [
        "# Conclusión\n",
        "\n",
        "Los conceptos de optimizadores, se utilizan en una amplia gama de aplicaciones de la industria, en particular, los siguientes aspectos de estos conceptos son innovadores en las tecnologías e industrias 4.0:\n",
        "\n",
        "* El uso de optimizadores avanzados, como Adam, permite a las redes neuronales entrenarse más rápido y con mayor precisión.\n",
        "\n",
        "* Los optimizadores avanzados, como Adam, utilizan técnicas como el momentum y la regularización para ayudar a las redes neuronales a converger más rápido y con mayor precisión. Esto es importante para aplicaciones industriales, donde las redes neuronales a menudo se utilizan para resolver problemas en tiempo real.\n",
        "\n",
        "* Las funciones de optimizadores ADAM, RMSprop y SGD son herramientas esenciales para entrenar modelos de aprendizaje profundo en industrias y tecnologías 4.0. Estos algoritmos permiten encontrar los parámetros que minimizan la función de pérdida de una red neuronal, lo que es necesario para que el modelo funcione correctamente.\n",
        "\n",
        "Estos aspectos están permitiendo a las empresas de la industria 4.0 desarrollar soluciones innovadoras que mejoran la eficiencia, la productividad y la seguridad a medida que la tecnología continúa desarrollándose, es probable que veamos un uso aún mayor de estos conceptos en las industrias 4.0.\n"
      ],
      "metadata": {
        "id": "tgMmlqqsypxp"
      }
    },
    {
      "cell_type": "markdown",
      "source": [
        "# Fuente Bibliográfica:\n",
        "Apuntes de la cátedra de Desarrollo de Sistema de Inteligencia Artificial. (2023). Tecnicatura Superior de Tecnologías e Innovación 4.0 . Instituto Superior del Politécnico Córdoba.\n"
      ],
      "metadata": {
        "id": "QUfjrda6xrJ_"
      }
    }
  ]
}